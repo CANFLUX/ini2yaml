{
 "cells": [
  {
   "cell_type": "code",
   "execution_count": null,
   "id": "7001ea31",
   "metadata": {},
   "outputs": [
    {
     "ename": "KeyError",
     "evalue": "'y'",
     "output_type": "error",
     "traceback": [
      "\u001b[31m---------------------------------------------------------------------------\u001b[39m",
      "\u001b[31mKeyError\u001b[39m                                  Traceback (most recent call last)",
      "\u001b[36mCell\u001b[39m\u001b[36m \u001b[39m\u001b[32mIn[15]\u001b[39m\u001b[32m, line 16\u001b[39m\n\u001b[32m     14\u001b[39m test2[\u001b[33m'\u001b[39m\u001b[33mx\u001b[39m\u001b[33m'\u001b[39m] = test1[\u001b[33m'\u001b[39m\u001b[33mx\u001b[39m\u001b[33m'\u001b[39m]\n\u001b[32m     15\u001b[39m \u001b[38;5;66;03m# test2['y'] = test1['x']\u001b[39;00m\n\u001b[32m---> \u001b[39m\u001b[32m16\u001b[39m test2[\u001b[33m'\u001b[39m\u001b[33mz\u001b[39m\u001b[33m'\u001b[39m] = [test1[\u001b[33m'\u001b[39m\u001b[33mx\u001b[39m\u001b[33m'\u001b[39m],\u001b[43mtest1\u001b[49m\u001b[43m[\u001b[49m\u001b[33;43m'\u001b[39;49m\u001b[33;43my\u001b[39;49m\u001b[33;43m'\u001b[39;49m\u001b[43m]\u001b[49m]\n\u001b[32m     18\u001b[39m data = {\u001b[33m'\u001b[39m\u001b[33mtest1\u001b[39m\u001b[33m'\u001b[39m:test1,\u001b[33m'\u001b[39m\u001b[33mtest2\u001b[39m\u001b[33m'\u001b[39m:test2}\n\u001b[32m     19\u001b[39m yaml.dump(data,sys.stdout)\n",
      "\u001b[36mFile \u001b[39m\u001b[32mc:\\sandbox\\ini2yaml\\.venv\\Lib\\site-packages\\ruamel\\yaml\\comments.py:854\u001b[39m, in \u001b[36mCommentedMap.__getitem__\u001b[39m\u001b[34m(self, key)\u001b[39m\n\u001b[32m    852\u001b[39m \u001b[38;5;28;01mdef\u001b[39;00m\u001b[38;5;250m \u001b[39m\u001b[34m__getitem__\u001b[39m(\u001b[38;5;28mself\u001b[39m, key: Any) -> Any:\n\u001b[32m    853\u001b[39m     \u001b[38;5;28;01mtry\u001b[39;00m:\n\u001b[32m--> \u001b[39m\u001b[32m854\u001b[39m         \u001b[38;5;28;01mreturn\u001b[39;00m \u001b[43mordereddict\u001b[49m\u001b[43m.\u001b[49m\u001b[34;43m__getitem__\u001b[39;49m\u001b[43m(\u001b[49m\u001b[38;5;28;43mself\u001b[39;49m\u001b[43m,\u001b[49m\u001b[43m \u001b[49m\u001b[43mkey\u001b[49m\u001b[43m)\u001b[49m\n\u001b[32m    855\u001b[39m     \u001b[38;5;28;01mexcept\u001b[39;00m \u001b[38;5;167;01mKeyError\u001b[39;00m:\n\u001b[32m    856\u001b[39m         \u001b[38;5;28;01mfor\u001b[39;00m merged \u001b[38;5;129;01min\u001b[39;00m \u001b[38;5;28mgetattr\u001b[39m(\u001b[38;5;28mself\u001b[39m, merge_attrib, []):\n\u001b[32m    857\u001b[39m             \u001b[38;5;66;03m# if isinstance(merged, tuple):\u001b[39;00m\n\u001b[32m    858\u001b[39m             \u001b[38;5;66;03m#     if key in merged[1]:\u001b[39;00m\n\u001b[32m    859\u001b[39m             \u001b[38;5;66;03m#         return merged[1][key]\u001b[39;00m\n\u001b[32m    860\u001b[39m             \u001b[38;5;66;03m# else:\u001b[39;00m\n",
      "\u001b[31mKeyError\u001b[39m: 'y'"
     ]
    }
   ],
   "source": [
    "import sys\n",
    "from ruamel.yaml import YAML\n",
    "from ruamel.yaml.comments import CommentedMap\n",
    "\n",
    "yaml = YAML()\n",
    "test1 = CommentedMap()\n",
    "\n",
    "test1['x'] = 'some value'\n",
    "test1['y'] = 'some other value'\n",
    "test1.yaml_set_anchor('x',always_dump=True)\n",
    "# test1.yaml_set_anchor('y',always_dump=True)\n",
    "\n",
    "test2 = CommentedMap()\n",
    "test2['x'] = test1['x']\n",
    "# test2['y'] = test1['x']\n",
    "test2['z'] = [test1['x'],test1['y']]\n",
    "\n",
    "data = {'test1':test1,'test2':test2}\n",
    "yaml.dump(data,sys.stdout)"
   ]
  }
 ],
 "metadata": {
  "kernelspec": {
   "display_name": ".venv",
   "language": "python",
   "name": "python3"
  },
  "language_info": {
   "codemirror_mode": {
    "name": "ipython",
    "version": 3
   },
   "file_extension": ".py",
   "mimetype": "text/x-python",
   "name": "python",
   "nbconvert_exporter": "python",
   "pygments_lexer": "ipython3",
   "version": "3.12.9"
  }
 },
 "nbformat": 4,
 "nbformat_minor": 5
}
