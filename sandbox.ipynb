{
 "cells": [
  {
   "cell_type": "code",
   "execution_count": null,
   "id": "c6773ed6",
   "metadata": {},
   "outputs": [
    {
     "data": {
      "text/plain": [
       "\"test(variableName='', title='', originalVariable='', inputFileName={}, inputFileName_dates=[])\""
      ]
     },
     "execution_count": 20,
     "metadata": {},
     "output_type": "execute_result"
    }
   ],
   "source": [
    "from dataclasses import dataclass, field\n",
    "import dataclasses\n",
    "\n",
    "@dataclass\n",
    "class test:\n",
    "    variableName: str , field(default='', metadata={'stage': 'common'})\n",
    "    title: str , field(default='', metadata={'stage': 'common'})\n",
    "    originalVariable: str , field(default='', metadata={'stage': 'firststage'})\n",
    "    inputFileName: str , field(default_factory=lambda: {}, metadata={'stage': 'firststage'})\n",
    "    inputFileName_dates: list, field(default_factory=list, metadata={'stage': 'firststage'})\n",
    "t = test()\n",
    "t.__dataclass_fields__['title'].default_factory == dataclasses.MISSING \n",
    "# t.__dict__\n",
    "# setattr(t,'x',1)\n",
    "# dataclasses.MISSING \n",
    "# t.__repr__\n",
    "t.__dict__['x'] = 'x'\n",
    "t.__dataclass_fields__['x'] = field()\n",
    "t.__repr__()"
   ]
  },
  {
   "cell_type": "code",
   "execution_count": 4,
   "id": "ebf56e54",
   "metadata": {},
   "outputs": [
    {
     "data": {
      "text/plain": [
       "'                   a'"
      ]
     },
     "execution_count": 4,
     "metadata": {},
     "output_type": "execute_result"
    }
   ],
   "source": [
    "# import re\n",
    "# text =' 8 % in hours'\n",
    "\n",
    "# pattern = r\"(\\\"[^\\\"]*\\\"|'[^']*')|%(.*)\"\n",
    "# def replacer(match):\n",
    "#     match\n",
    "#     if match.group(1):  # quoted string\n",
    "#         return match.group(1)\n",
    "#     else:               # bare %\n",
    "#         return ''\n",
    "# re.sub(pattern, replacer, text)\n",
    "\n",
    "a = '                   a'\n",
    "a.replace('\\t\\t\\t\\t','')"
   ]
  }
 ],
 "metadata": {
  "kernelspec": {
   "display_name": ".venv",
   "language": "python",
   "name": "python3"
  },
  "language_info": {
   "codemirror_mode": {
    "name": "ipython",
    "version": 3
   },
   "file_extension": ".py",
   "mimetype": "text/x-python",
   "name": "python",
   "nbconvert_exporter": "python",
   "pygments_lexer": "ipython3",
   "version": "3.12.9"
  }
 },
 "nbformat": 4,
 "nbformat_minor": 5
}
