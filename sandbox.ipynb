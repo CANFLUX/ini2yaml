{
 "cells": [
  {
   "cell_type": "code",
   "execution_count": null,
   "id": "7001ea31",
   "metadata": {},
   "outputs": [
    {
     "data": {
      "text/plain": [
       "list"
      ]
     },
     "execution_count": 19,
     "metadata": {},
     "output_type": "execute_result"
    }
   ],
   "source": [
    "import sys\n",
    "from ruamel.yaml import YAML\n",
    "from ruamel.yaml.comments import CommentedMap\n",
    "\n",
    "yaml = YAML()\n",
    "test1 = CommentedMap()\n",
    "test1 = ['a','b']\n",
    "type(test1)\n",
    "\n",
    "# test1['x'] = 'some value'\n",
    "# test1['y'] = 'some other value'\n",
    "# test1.yaml_set_anchor('chode',always_dump=True)\n",
    "# # test1.yaml_set_anchor('y',always_dump=True)\n",
    "\n",
    "# test2 = CommentedMap()\n",
    "# test2['x'] = test1['x']\n",
    "# # test2['y'] = test1['x']\n",
    "# test2['z'] = [test1['x'],test1['y']]\n",
    "\n",
    "# data = {'test1':test1,'test2':test2}\n",
    "# yaml.dump(data,sys.stdout)"
   ]
  },
  {
   "cell_type": "code",
   "execution_count": 43,
   "id": "1563c701",
   "metadata": {},
   "outputs": [
    {
     "name": "stdout",
     "output_type": "stream",
     "text": [
      "{'base': '[1, 2]', 'object': {'tmp': '[1, 2]', 'y': 2}}\n"
     ]
    }
   ],
   "source": [
    "import sys\n",
    "import ruamel.yaml\n",
    "\n",
    "def CM(**kw):\n",
    "    return ruamel.yaml.comments.CommentedMap(**kw)\n",
    "def SM(v):\n",
    "    return ruamel.yaml.scalarstring.PlainScalarString(v)\n",
    "    \n",
    "\n",
    "common = SM([1,2])\n",
    "common.yaml_set_anchor('ANCHOR')\n",
    "data = CM(base=common, object=CM(tmp=common, y=2))\n",
    "yaml = ruamel.yaml.YAML()\n",
    "a = ''\n",
    "with open('test.yml','w+') as f:\n",
    "    yaml.dump(data,f)\n",
    "with open('test.yml') as f:\n",
    "    a = yaml.load(f)\n",
    "print(a)"
   ]
  }
 ],
 "metadata": {
  "kernelspec": {
   "display_name": ".venv",
   "language": "python",
   "name": "python3"
  },
  "language_info": {
   "codemirror_mode": {
    "name": "ipython",
    "version": 3
   },
   "file_extension": ".py",
   "mimetype": "text/x-python",
   "name": "python",
   "nbconvert_exporter": "python",
   "pygments_lexer": "ipython3",
   "version": "3.12.9"
  }
 },
 "nbformat": 4,
 "nbformat_minor": 5
}
