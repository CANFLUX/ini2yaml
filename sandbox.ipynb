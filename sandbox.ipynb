{
 "cells": [
  {
   "cell_type": "code",
   "execution_count": null,
   "id": "c6773ed6",
   "metadata": {},
   "outputs": [
    {
     "data": {
      "text/plain": [
       "\"test(variableName='', title='', originalVariable='', inputFileName={}, inputFileName_dates=[])\""
      ]
     },
     "execution_count": 20,
     "metadata": {},
     "output_type": "execute_result"
    }
   ],
   "source": [
    "from dataclasses import dataclass, field\n",
    "import dataclasses\n",
    "\n",
    "@dataclass\n",
    "class test:\n",
    "    variableName: str , field(default='', metadata={'stage': 'common'})\n",
    "    title: str , field(default='', metadata={'stage': 'common'})\n",
    "    originalVariable: str , field(default='', metadata={'stage': 'firststage'})\n",
    "    inputFileName: str , field(default_factory=lambda: {}, metadata={'stage': 'firststage'})\n",
    "    inputFileName_dates: list, field(default_factory=list, metadata={'stage': 'firststage'})\n",
    "t = test()\n",
    "t.__dataclass_fields__['title'].default_factory == dataclasses.MISSING \n",
    "# t.__dict__\n",
    "# setattr(t,'x',1)\n",
    "# dataclasses.MISSING \n",
    "# t.__repr__\n",
    "t.__dict__['x'] = 'x'\n",
    "t.__dataclass_fields__['x'] = field()\n",
    "t.__repr__()"
   ]
  },
  {
   "cell_type": "code",
   "execution_count": 18,
   "id": "ebf56e54",
   "metadata": {},
   "outputs": [
    {
     "data": {
      "text/plain": [
       "True"
      ]
     },
     "execution_count": 18,
     "metadata": {},
     "output_type": "execute_result"
    }
   ],
   "source": [
    "k = '1'\n",
    "t = ['1',2]\n",
    "k in t"
   ]
  },
  {
   "cell_type": "code",
   "execution_count": 32,
   "id": "def6f2ce",
   "metadata": {},
   "outputs": [],
   "source": [
    "from dataclasses import dataclass,field, MISSING, _MISSING_TYPE, make_dataclass\n",
    "\n",
    "def one(self,a):\n",
    "    self.Evaluate = a\n",
    "\n",
    "Trace = make_dataclass(\n",
    "    \"Trace\",\n",
    "    [\n",
    "    ('variableName', str , field(default='', metadata={'stage': 'common'})),\n",
    "    ('title', str , field(default='', metadata={'stage': 'common'})),\n",
    "    ('originalVariable', str , field(default='', metadata={'stage': 'firststage'})),\n",
    "    ('inputFileName', str , field(default_factory=lambda: {}, metadata={'stage': 'firststage'})),\n",
    "    ('inputFileName_dates', list, field(default_factory=list, metadata={'stage': 'firststage'})),\n",
    "    ('measurementType', str , field(default='', metadata={'stage': 'firststage'})),\n",
    "    ('units', str , field(default='', metadata={'stage': 'common'})),\n",
    "    ('instrument', str , field(default='', metadata={'stage': 'firststage'})),\n",
    "    ('instrumentType', str , field(default='', metadata={'stage': 'firststage'})),\n",
    "    ('instrumentSN', str , field(default='', metadata={'stage': 'firststage'})),\n",
    "    ('loggedCalibration', list, field(default_factory=list, metadata={'stage': 'firststage'})),\n",
    "    ('currentCalibration', list, field(default_factory=list, metadata={'stage': 'firststage'})),\n",
    "    ('minMax', list, field(default_factory=list, metadata={'stage': 'firststage'})),\n",
    "    ('clamped_minMax', list, field(default_factory=list, metadata={'stage': 'firststage'})),\n",
    "    ('zeroPt', list, field(default_factory=list, metadata={'stage': 'firststage'})),\n",
    "    ('comments', str , field(default='', metadata={'stage': 'firststage'})),\n",
    "    ('dependent', str , field(default='', metadata={'stage': 'firststage'})),\n",
    "    ('Evaluate', str , field(default='', metadata={'stage': 'secondstage'}))\n",
    "    ],\n",
    "    namespace={'one':one}\n",
    ")\n",
    "T = Trace()#.Evaluate\n",
    "T.one(a='a')\n",
    "# T.one(a='a')"
   ]
  },
  {
   "cell_type": "code",
   "execution_count": 38,
   "id": "d334e1c2",
   "metadata": {},
   "outputs": [
    {
     "data": {
      "text/plain": [
       "datetime.datetime(2001, 1, 1, 0, 0)"
      ]
     },
     "execution_count": 38,
     "metadata": {},
     "output_type": "execute_result"
    }
   ],
   "source": [
    "import datetime\n",
    "\n",
    "from dateutil.parser import parse as dateparse\n",
    "dateparse('1,1,1')"
   ]
  },
  {
   "cell_type": "code",
   "execution_count": 17,
   "id": "1563c701",
   "metadata": {},
   "outputs": [
    {
     "name": "stdout",
     "output_type": "stream",
     "text": [
      "base: &ANCHOR\n",
      "- 1\n",
      "- 2\n",
      "object:\n",
      "  tmp: *ANCHOR\n",
      "  y: 2\n",
      "\n"
     ]
    }
   ],
   "source": [
    "import sys\n",
    "import ruamel.yaml\n",
    "\n",
    "def CM(**kw):\n",
    "    return ruamel.yaml.comments.CommentedMap(**kw)\n",
    "def CS(v):\n",
    "    return ruamel.yaml.comments.CommentedSeq(v)\n",
    "def SM(v):\n",
    "    return ruamel.yaml.scalarstring.PlainScalarString(v)\n",
    "\n",
    "common = CS([1,2])\n",
    "common.yaml_set_anchor('ANCHOR')\n",
    "data = CM(base=common, object=CM(tmp=common, y=2))\n",
    "yaml = ruamel.yaml.YAML()\n",
    "a = ''\n",
    "with open('test.yml','w+') as f:\n",
    "    yaml.dump(data,f)\n",
    "with open('test.yml') as f:\n",
    "    # a = yaml.load(f)\n",
    "    print(f.read())\n",
    "# print(a)"
   ]
  },
  {
   "cell_type": "code",
   "execution_count": 24,
   "id": "84097232",
   "metadata": {},
   "outputs": [
    {
     "name": "stdout",
     "output_type": "stream",
     "text": [
      "a: 1\n",
      "b: 42\n",
      "x:\n"
     ]
    },
    {
     "data": {
      "text/plain": [
       "'b'"
      ]
     },
     "execution_count": 24,
     "metadata": {},
     "output_type": "execute_result"
    }
   ],
   "source": [
    "import ruamel.yaml\n",
    "yaml = ruamel.yaml.YAML()\n",
    "\n",
    "from ruamel.yaml.comments import CommentedBase\n",
    "import sys\n",
    "# v = CommentedBase()\n",
    "# v = 42\n",
    "# v.yaml_set_anchor('Chode')\n",
    "d = {'a':1,'b':42,'x':None}\n",
    "yaml.dump(d,sys.stdout)\n",
    "b = {}\n",
    "len(b)\n",
    "a = '   b'\n",
    "a.replace(' ','')"
   ]
  },
  {
   "cell_type": "code",
   "execution_count": 40,
   "id": "3a6e701a",
   "metadata": {},
   "outputs": [
    {
     "data": {
      "text/plain": [
       "' & '"
      ]
     },
     "execution_count": 40,
     "metadata": {},
     "output_type": "execute_result"
    }
   ],
   "source": [
    "# a = \"[ globalVarsInstrument.Anemometer.instrumentSN. , ' & ' , globalVarsInstrument.IRGA.instrumentSN. , ' & ' , globalVarsInstrument.LI7700.instrumentSN. ]\"\n",
    "# # [b.strip().split(' ') for b in a.split(',')]\n",
    "# a.split(',')\n",
    "eval('\" & \"')"
   ]
  }
 ],
 "metadata": {
  "kernelspec": {
   "display_name": ".venv",
   "language": "python",
   "name": "python3"
  },
  "language_info": {
   "codemirror_mode": {
    "name": "ipython",
    "version": 3
   },
   "file_extension": ".py",
   "mimetype": "text/x-python",
   "name": "python",
   "nbconvert_exporter": "python",
   "pygments_lexer": "ipython3",
   "version": "3.12.9"
  }
 },
 "nbformat": 4,
 "nbformat_minor": 5
}
