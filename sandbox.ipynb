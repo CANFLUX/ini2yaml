{
 "cells": [
  {
   "cell_type": "code",
   "execution_count": null,
   "id": "c6773ed6",
   "metadata": {},
   "outputs": [
    {
     "data": {
      "text/plain": [
       "\"test(variableName='', title='', originalVariable='', inputFileName={}, inputFileName_dates=[])\""
      ]
     },
     "execution_count": 20,
     "metadata": {},
     "output_type": "execute_result"
    }
   ],
   "source": [
    "from dataclasses import dataclass, field\n",
    "import dataclasses\n",
    "\n",
    "@dataclass\n",
    "class test:\n",
    "    variableName: str , field(default='', metadata={'stage': 'common'})\n",
    "    title: str , field(default='', metadata={'stage': 'common'})\n",
    "    originalVariable: str , field(default='', metadata={'stage': 'firststage'})\n",
    "    inputFileName: str , field(default_factory=lambda: {}, metadata={'stage': 'firststage'})\n",
    "    inputFileName_dates: list, field(default_factory=list, metadata={'stage': 'firststage'})\n",
    "t = test()\n",
    "t.__dataclass_fields__['title'].default_factory == dataclasses.MISSING \n",
    "# t.__dict__\n",
    "# setattr(t,'x',1)\n",
    "# dataclasses.MISSING \n",
    "# t.__repr__\n",
    "t.__dict__['x'] = 'x'\n",
    "t.__dataclass_fields__['x'] = field()\n",
    "t.__repr__()"
   ]
  },
  {
   "cell_type": "code",
   "execution_count": 6,
   "id": "a47e6014",
   "metadata": {},
   "outputs": [
    {
     "data": {
      "text/plain": [
       "{'metadata': {'Site_name': 'Swiss Cheese Lake',\n",
       "  'SiteID': 'SCL',\n",
       "  'Diff_GMT_to_local_time': 7,\n",
       "  'Timezone': 0},\n",
       " 'globalVars': {},\n",
       " 'Trace': {\"'clean_tv'\": {'variableName': \"'clean_tv'\",\n",
       "   'title': \"'Testing'\",\n",
       "   'units': \"''\",\n",
       "   'inputFileName': {'clean_tv'},\n",
       "   'measurementType': \"'Flux'\",\n",
       "   'minMax': [-inf, inf],\n",
       "   'Evaluate': '',\n",
       "   'Overwrite': 0,\n",
       "   'instrument': \"''\",\n",
       "   'instrumentType': \"''\",\n",
       "   'comments': \"'Load time vector so that it becomes available for Evaluate calculations'\",\n",
       "   'dependent': \"''\"},\n",
       "  \"'TA_1_1_1'\": {'variableName': \"'TA_1_1_1'\",\n",
       "   'title': \"'Air temperature at 2.05m'\",\n",
       "   'units': '',\n",
       "   'inputFileName': {'MET_HMP_T_2m_Avg'},\n",
       "   'measurementType': \"'Met'\",\n",
       "   'minMax': [],\n",
       "   'Evaluate': '',\n",
       "   'Overwrite': 0,\n",
       "   'originalVariable': \"'Air temperature at 2.05m'\"},\n",
       "  \"'TA_1_2_1'\": {'variableName': \"'TA_1_2_1'\",\n",
       "   'title': \"'Air temperature at 30cm'\",\n",
       "   'units': \"'âˆžC'\",\n",
       "   'inputFileName': {'MET_HMP_T_30cm_Avg'},\n",
       "   'measurementType': \"'Met'\",\n",
       "   'minMax': [-20, 50],\n",
       "   'Evaluate': \"'TA_1_2_1 = run_std_dev(TA_1_2_1,clean_tv,wlen,thres);\\n\\tPotato=4'\",\n",
       "   'Overwrite': 0,\n",
       "   'originalVariable': \"'Air temperature at 30cm'\",\n",
       "   'instrument': \"'HMP35A'\",\n",
       "   'instrumentSN': \"'HMP1'\"}},\n",
       " 'Include': []}"
      ]
     },
     "execution_count": 6,
     "metadata": {},
     "output_type": "execute_result"
    }
   ],
   "source": [
    "import yaml\n",
    "f = r'C:\\Database\\Calculation_Procedures\\TraceAnalysis_ini\\SCL\\SCL_firststage.yml'\n",
    "with open(f) as f:\n",
    "    f = yaml.safe_load(f)\n",
    "# print(f['Trace']['TA_1_2_1'])\n",
    "f"
   ]
  },
  {
   "cell_type": "code",
   "execution_count": 7,
   "id": "ebf56e54",
   "metadata": {},
   "outputs": [
    {
     "name": "stdout",
     "output_type": "stream",
     "text": [
      "a: {}\n"
     ]
    }
   ],
   "source": [
    "import sys\n",
    "from ruamel.yaml import YAML\n",
    "from ruamel.yaml.comments import CommentedMap\n",
    "from ruamel.yaml.scalarstring import PlainScalarString, LiteralScalarString\n",
    "\n",
    "yaml = YAML()\n",
    "\n",
    "data = {}\n",
    "data['a'] = CommentedMap()\n",
    "# data['a'] = PlainScalarString('a')\n",
    "data['a'].yaml_add_eol_comment='chode'\n",
    "\n",
    "yaml.dump(data=data,stream=sys.stdout)\n"
   ]
  }
 ],
 "metadata": {
  "kernelspec": {
   "display_name": ".venv",
   "language": "python",
   "name": "python3"
  },
  "language_info": {
   "codemirror_mode": {
    "name": "ipython",
    "version": 3
   },
   "file_extension": ".py",
   "mimetype": "text/x-python",
   "name": "python",
   "nbconvert_exporter": "python",
   "pygments_lexer": "ipython3",
   "version": "3.10.4"
  }
 },
 "nbformat": 4,
 "nbformat_minor": 5
}
