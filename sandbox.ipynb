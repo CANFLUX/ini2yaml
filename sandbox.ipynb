{
 "cells": [
  {
   "cell_type": "code",
   "execution_count": null,
   "id": "7001ea31",
   "metadata": {},
   "outputs": [
    {
     "data": {
      "text/plain": [
       "list"
      ]
     },
     "execution_count": 19,
     "metadata": {},
     "output_type": "execute_result"
    }
   ],
   "source": [
    "import sys\n",
    "from ruamel.yaml import YAML\n",
    "from ruamel.yaml.comments import CommentedMap\n",
    "\n",
    "yaml = YAML()\n",
    "test1 = CommentedMap()\n",
    "test1 = ['a','b']\n",
    "type(test1)\n",
    "\n",
    "# test1['x'] = 'some value'\n",
    "# test1['y'] = 'some other value'\n",
    "# test1.yaml_set_anchor('chode',always_dump=True)\n",
    "# # test1.yaml_set_anchor('y',always_dump=True)\n",
    "\n",
    "# test2 = CommentedMap()\n",
    "# test2['x'] = test1['x']\n",
    "# # test2['y'] = test1['x']\n",
    "# test2['z'] = [test1['x'],test1['y']]\n",
    "\n",
    "# data = {'test1':test1,'test2':test2}\n",
    "# yaml.dump(data,sys.stdout)"
   ]
  },
  {
   "cell_type": "code",
   "execution_count": 17,
   "id": "1563c701",
   "metadata": {},
   "outputs": [
    {
     "name": "stdout",
     "output_type": "stream",
     "text": [
      "base: &ANCHOR\n",
      "- 1\n",
      "- 2\n",
      "object:\n",
      "  tmp: *ANCHOR\n",
      "  y: 2\n",
      "\n"
     ]
    }
   ],
   "source": [
    "import sys\n",
    "import ruamel.yaml\n",
    "\n",
    "def CM(**kw):\n",
    "    return ruamel.yaml.comments.CommentedMap(**kw)\n",
    "def CS(v):\n",
    "    return ruamel.yaml.comments.CommentedSeq(v)\n",
    "def SM(v):\n",
    "    return ruamel.yaml.scalarstring.PlainScalarString(v)\n",
    "\n",
    "common = CS([1,2])\n",
    "common.yaml_set_anchor('ANCHOR')\n",
    "data = CM(base=common, object=CM(tmp=common, y=2))\n",
    "yaml = ruamel.yaml.YAML()\n",
    "a = ''\n",
    "with open('test.yml','w+') as f:\n",
    "    yaml.dump(data,f)\n",
    "with open('test.yml') as f:\n",
    "    # a = yaml.load(f)\n",
    "    print(f.read())\n",
    "# print(a)"
   ]
  },
  {
   "cell_type": "code",
   "execution_count": 30,
   "id": "84097232",
   "metadata": {},
   "outputs": [
    {
     "ename": "AttributeError",
     "evalue": "'int' object has no attribute 'yaml_set_anchor'",
     "output_type": "error",
     "traceback": [
      "\u001b[1;31m---------------------------------------------------------------------------\u001b[0m",
      "\u001b[1;31mAttributeError\u001b[0m                            Traceback (most recent call last)",
      "Cell \u001b[1;32mIn[30], line 8\u001b[0m\n\u001b[0;32m      6\u001b[0m v \u001b[38;5;241m=\u001b[39m CommentedBase()\n\u001b[0;32m      7\u001b[0m v \u001b[38;5;241m=\u001b[39m \u001b[38;5;241m42\u001b[39m\n\u001b[1;32m----> 8\u001b[0m \u001b[43mv\u001b[49m\u001b[38;5;241;43m.\u001b[39;49m\u001b[43myaml_set_anchor\u001b[49m(\u001b[38;5;124m'\u001b[39m\u001b[38;5;124mChode\u001b[39m\u001b[38;5;124m'\u001b[39m)\n\u001b[0;32m      9\u001b[0m d \u001b[38;5;241m=\u001b[39m {\u001b[38;5;124m'\u001b[39m\u001b[38;5;124ma\u001b[39m\u001b[38;5;124m'\u001b[39m:v,\u001b[38;5;124m'\u001b[39m\u001b[38;5;124mb\u001b[39m\u001b[38;5;124m'\u001b[39m:\u001b[38;5;241m42\u001b[39m}\n\u001b[0;32m     10\u001b[0m yaml\u001b[38;5;241m.\u001b[39mdump(d,sys\u001b[38;5;241m.\u001b[39mstdout)\n",
      "\u001b[1;31mAttributeError\u001b[0m: 'int' object has no attribute 'yaml_set_anchor'"
     ]
    }
   ],
   "source": [
    "import ruamel.yaml\n",
    "yaml = ruamel.yaml.YAML()\n",
    "\n",
    "from ruamel.yaml.comments import CommentedBase\n",
    "\n",
    "v = CommentedBase()\n",
    "v = 42\n",
    "v.yaml_set_anchor('Chode')\n",
    "d = {'a':v,'b':42}\n",
    "yaml.dump(d,sys.stdout)\n"
   ]
  },
  {
   "cell_type": "code",
   "execution_count": 40,
   "id": "3a6e701a",
   "metadata": {},
   "outputs": [
    {
     "data": {
      "text/plain": [
       "' & '"
      ]
     },
     "execution_count": 40,
     "metadata": {},
     "output_type": "execute_result"
    }
   ],
   "source": [
    "# a = \"[ globalVarsInstrument.Anemometer.instrumentSN. , ' & ' , globalVarsInstrument.IRGA.instrumentSN. , ' & ' , globalVarsInstrument.LI7700.instrumentSN. ]\"\n",
    "# # [b.strip().split(' ') for b in a.split(',')]\n",
    "# a.split(',')\n",
    "eval('\" & \"')"
   ]
  }
 ],
 "metadata": {
  "kernelspec": {
   "display_name": ".venv",
   "language": "python",
   "name": "python3"
  },
  "language_info": {
   "codemirror_mode": {
    "name": "ipython",
    "version": 3
   },
   "file_extension": ".py",
   "mimetype": "text/x-python",
   "name": "python",
   "nbconvert_exporter": "python",
   "pygments_lexer": "ipython3",
   "version": "3.12.9"
  }
 },
 "nbformat": 4,
 "nbformat_minor": 5
}
